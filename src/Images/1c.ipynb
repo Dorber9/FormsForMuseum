{
 "cells": [
  {
   "cell_type": "code",
   "execution_count": 19,
   "metadata": {},
   "outputs": [
    {
     "data": {
      "text/plain": [
       "[20, 18, 16, 14, 12]"
      ]
     },
     "execution_count": 19,
     "metadata": {},
     "output_type": "execute_result"
    }
   ],
   "source": [
    "# 1. Define a variable my_sent to be a list of words, using the syntax my_sent = [\"My\", \"sent\"] \n",
    "# (pick your own text).\n",
    "# Use ' '.join(my_sent) to convert this into a string.\n",
    "# Use split() to split the string back into the list form you had to start with.\n",
    "\n",
    "my_sent = [\"lets\", \"do\", \"this\", \"together\"]\n",
    "\n",
    "\n",
    "# 2. What happens when you type ['Monty', 'Python'] * 20 ?\n",
    "\n",
    "\n",
    "\n",
    "# 3. We have seen how to represent a sentence as a list of words, where each word is \n",
    "# a sequence of characters. What does sent1[2][2] do? Why? Experiment with other index values.\n",
    "\n",
    "\n",
    "\n",
    "# 4. Type the expressions, and explain what they perform:\n",
    "list(range(10))\n",
    "list(range(10, 20))\n",
    "list(range(10, 20, 2))\n",
    "list(range(20, 10, -2))"
   ]
  },
  {
   "cell_type": "code",
   "execution_count": 1,
   "metadata": {
    "collapsed": true
   },
   "outputs": [
    {
     "name": "stdout",
     "output_type": "stream",
     "text": [
      "*** Introductory Examples for the NLTK Book ***\n",
      "Loading text1, ..., text9 and sent1, ..., sent9\n",
      "Type the name of the text or sentence to view it.\n",
      "Type: 'texts()' or 'sents()' to list the materials.\n",
      "text1: Moby Dick by Herman Melville 1851\n",
      "text2: Sense and Sensibility by Jane Austen 1811\n",
      "text3: The Book of Genesis\n",
      "text4: Inaugural Address Corpus\n",
      "text5: Chat Corpus\n",
      "text6: Monty Python and the Holy Grail\n",
      "text7: Wall Street Journal\n",
      "text8: Personals Corpus\n",
      "text9: The Man Who Was Thursday by G . K . Chesterton 1908\n"
     ]
    },
    {
     "data": {
      "text/plain": [
       "19317"
      ]
     },
     "execution_count": 1,
     "metadata": {},
     "output_type": "execute_result"
    }
   ],
   "source": [
    "from nltk.book import *\n",
    "\n",
    "# 5. Use text9.index() to find the index of the word sunset.\n",
    "\n",
    "\n",
    "\n",
    "# 6.  By a process of trial and error, find the slice for the complete sentence that contains this word.\n",
    "\n",
    "\n",
    "\n",
    "# 7. Compute the vocabulary (set of unique words) of sent1.\n",
    "\n",
    "\n",
    "\n",
    "# 8. Using list addition, and the set and sorted operations, compute the vocabulary of *all* of the sentences sent1 - sent8.\n",
    "\n",
    "\n",
    "\n",
    "# 9. Print the last two words of sent2.\n",
    "\n",
    "\n",
    "\n",
    "# 10. Define a function called vocab_size(text) that has a single parameter for the text, \n",
    "# and which returns the vocabulary size (number of unique words) of the text.\n",
    "\n",
    "\n"
   ]
  }
 ],
 "metadata": {
  "kernelspec": {
   "display_name": "Python 3",
   "language": "python",
   "name": "python3"
  },
  "language_info": {
   "codemirror_mode": {
    "name": "ipython",
    "version": 3
   },
   "file_extension": ".py",
   "mimetype": "text/x-python",
   "name": "python",
   "nbconvert_exporter": "python",
   "pygments_lexer": "ipython3",
   "version": "3.8.5"
  }
 },
 "nbformat": 4,
 "nbformat_minor": 4
}
